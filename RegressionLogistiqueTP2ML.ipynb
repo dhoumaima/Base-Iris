{
  "nbformat": 4,
  "nbformat_minor": 0,
  "metadata": {
    "colab": {
      "provenance": [],
      "authorship_tag": "ABX9TyMf5n2rC4x3YRcpOy8z3jmW",
      "include_colab_link": true
    },
    "kernelspec": {
      "name": "python3",
      "display_name": "Python 3"
    },
    "language_info": {
      "name": "python"
    }
  },
  "cells": [
    {
      "cell_type": "markdown",
      "metadata": {
        "id": "view-in-github",
        "colab_type": "text"
      },
      "source": [
        "<a href=\"https://colab.research.google.com/github/dhoumaima/Base-Iris/blob/main/RegressionLogistiqueTP2ML.ipynb\" target=\"_parent\"><img src=\"https://colab.research.google.com/assets/colab-badge.svg\" alt=\"Open In Colab\"/></a>"
      ]
    },
    {
      "cell_type": "markdown",
      "source": [
        "##La regression logistique : un calcule de probabilité\n",
        "###Binaire:\n",
        "la decision : P>0.5 => relation positive\n",
        "              P<0.5 => relation nrgative\n",
        "\n",
        "###Plus que 2 classe :\n",
        "la decision : P la plus grande => l'element appartient a cette classe\n",
        "\n",
        "## apprentissage supervisé :\n",
        "je déja connais les cible"
      ],
      "metadata": {
        "id": "8a5BSRygRhCm"
      }
    },
    {
      "cell_type": "code",
      "execution_count": null,
      "metadata": {
        "colab": {
          "base_uri": "https://localhost:8080/"
        },
        "id": "LnUBPZywQzxm",
        "outputId": "5e067e98-4b2c-4573-cf3c-2e59ad332845"
      },
      "outputs": [
        {
          "output_type": "stream",
          "name": "stdout",
          "text": [
            "target =  [0 0 0 0 0 0 0 0 0 0 0 0 0 0 0 0 0 0 0 0 0 0 0 0 0 0 0 0 0 0 0 0 0 0 0 0 0\n",
            " 0 0 0 0 0 0 0 0 0 0 0 0 0 1 1 1 1 1 1 1 1 1 1 1 1 1 1 1 1 1 1 1 1 1 1 1 1\n",
            " 1 1 1 1 1 1 1 1 1 1 1 1 1 1 1 1 1 1 1 1 1 1 1 1 1 1 2 2 2 2 2 2 2 2 2 2 2\n",
            " 2 2 2 2 2 2 2 2 2 2 2 2 2 2 2 2 2 2 2 2 2 2 2 2 2 2 2 2 2 2 2 2 2 2 2 2 2\n",
            " 2 2]\n",
            "la resultat est : [0 0 0 0 0 0 0 0 0 0 0 0 0 0 0 0 0 0 0 0 0 0 0 0 0 0 0 0 0 0 0 0 0 0 0 0 0\n",
            " 0 0 0 0 0 0 0 0 0 0 0 0 0 1 1 1 1 1 1 1 1 1 1 1 1 1 1 1 1 1 1 1 1 2 1 1 1\n",
            " 1 1 1 2 1 1 1 1 1 2 1 1 1 1 1 1 1 1 1 1 1 1 1 1 1 1 2 2 2 2 2 2 1 2 2 2 2\n",
            " 2 2 2 2 2 2 2 2 2 2 2 2 2 2 2 2 2 2 2 2 2 2 2 2 2 2 2 2 2 2 2 2 2 2 2 2 2\n",
            " 2 2]\n",
            "result - target = [ 0  0  0  0  0  0  0  0  0  0  0  0  0  0  0  0  0  0  0  0  0  0  0  0\n",
            "  0  0  0  0  0  0  0  0  0  0  0  0  0  0  0  0  0  0  0  0  0  0  0  0\n",
            "  0  0  0  0  0  0  0  0  0  0  0  0  0  0  0  0  0  0  0  0  0  0  1  0\n",
            "  0  0  0  0  0  1  0  0  0  0  0  1  0  0  0  0  0  0  0  0  0  0  0  0\n",
            "  0  0  0  0  0  0  0  0  0  0 -1  0  0  0  0  0  0  0  0  0  0  0  0  0\n",
            "  0  0  0  0  0  0  0  0  0  0  0  0  0  0  0  0  0  0  0  0  0  0  0  0\n",
            "  0  0  0  0  0  0]\n",
            "Nb d' erreurs 4\n",
            "Pourcentage de prédiction juste: 97.33333333333333\n"
          ]
        },
        {
          "output_type": "stream",
          "name": "stderr",
          "text": [
            "/usr/local/lib/python3.10/dist-packages/sklearn/linear_model/_logistic.py:469: ConvergenceWarning: lbfgs failed to converge (status=1):\n",
            "STOP: TOTAL NO. of ITERATIONS REACHED LIMIT.\n",
            "\n",
            "Increase the number of iterations (max_iter) or scale the data as shown in:\n",
            "    https://scikit-learn.org/stable/modules/preprocessing.html\n",
            "Please also refer to the documentation for alternative solver options:\n",
            "    https://scikit-learn.org/stable/modules/linear_model.html#logistic-regression\n",
            "  n_iter_i = _check_optimize_result(\n"
          ]
        }
      ],
      "source": [
        "from sklearn.linear_model import LogisticRegression\n",
        "from sklearn import datasets\n",
        "iris = datasets.load_iris() #on n inmporter la datasets iris\n",
        "data = iris.data # les données de la base d'  ris (sl sw pl pw)\n",
        "\n",
        "clf = LogisticRegression()\n",
        "target = iris.target #les trois classe de mon BD\n",
        "print(\"target = \",target) # les target origine\n",
        "clf.fit(data, target) # donner au LogisticRegression les donnes(sw sl pw pl ) et les target (les categorie de cette base ) : apprentissge\n",
        "result= clf.predict(data) # les \"target\" estimer par Logisticregresion().predict(data)\n",
        "print(\"la resultat est :\",result)\n",
        "print(\"result - target =\",result - target)\n",
        "errors = sum(result != target)\n",
        "print(\"Nb d' erreurs\",errors) # les erreur sont fournis a cause que\n",
        "print(\"Pourcentage de prédiction juste:\",(150-errors)*100/150) #% de réussite"
      ]
    },
    {
      "cell_type": "code",
      "source": [],
      "metadata": {
        "id": "CGhMHh0lULNV"
      },
      "execution_count": null,
      "outputs": []
    }
  ]
}